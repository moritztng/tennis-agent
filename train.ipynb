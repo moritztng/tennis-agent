{
 "cells": [
  {
   "cell_type": "markdown",
   "metadata": {},
   "source": [
    "# Train Tennis Agents"
   ]
  },
  {
   "cell_type": "markdown",
   "metadata": {},
   "source": [
    "## Install Requirements"
   ]
  },
  {
   "cell_type": "code",
   "execution_count": 1,
   "metadata": {},
   "outputs": [
    {
     "name": "stdout",
     "output_type": "stream",
     "text": [
      "Requirement already satisfied: tqdm in /home/moritz/anaconda3/envs/drlnd/lib/python3.6/site-packages (from -r requirements.txt (line 1)) (4.41.1)\n",
      "Requirement already satisfied: torch in /home/moritz/anaconda3/envs/drlnd/lib/python3.6/site-packages (from -r requirements.txt (line 2)) (0.4.0)\n",
      "Requirement already satisfied: numpy in /home/moritz/anaconda3/envs/drlnd/lib/python3.6/site-packages (from -r requirements.txt (line 3)) (1.17.4)\n",
      "Requirement already satisfied: matplotlib in /home/moritz/anaconda3/envs/drlnd/lib/python3.6/site-packages (from -r requirements.txt (line 4)) (3.1.1)\n",
      "Requirement already satisfied: cycler>=0.10 in /home/moritz/anaconda3/envs/drlnd/lib/python3.6/site-packages (from matplotlib->-r requirements.txt (line 4)) (0.10.0)\n",
      "Requirement already satisfied: python-dateutil>=2.1 in /home/moritz/anaconda3/envs/drlnd/lib/python3.6/site-packages (from matplotlib->-r requirements.txt (line 4)) (2.8.1)\n",
      "Requirement already satisfied: pyparsing!=2.0.4,!=2.1.2,!=2.1.6,>=2.0.1 in /home/moritz/anaconda3/envs/drlnd/lib/python3.6/site-packages (from matplotlib->-r requirements.txt (line 4)) (2.4.5)\n",
      "Requirement already satisfied: kiwisolver>=1.0.1 in /home/moritz/anaconda3/envs/drlnd/lib/python3.6/site-packages (from matplotlib->-r requirements.txt (line 4)) (1.1.0)\n",
      "Requirement already satisfied: six in /home/moritz/anaconda3/envs/drlnd/lib/python3.6/site-packages (from cycler>=0.10->matplotlib->-r requirements.txt (line 4)) (1.13.0)\n",
      "Requirement already satisfied: setuptools in /home/moritz/anaconda3/envs/drlnd/lib/python3.6/site-packages (from kiwisolver>=1.0.1->matplotlib->-r requirements.txt (line 4)) (41.6.0.post20191030)\n"
     ]
    }
   ],
   "source": [
    "!pip install -r requirements.txt"
   ]
  },
  {
   "cell_type": "markdown",
   "metadata": {},
   "source": [
    "## Import Libraries"
   ]
  },
  {
   "cell_type": "code",
   "execution_count": 2,
   "metadata": {},
   "outputs": [],
   "source": [
    "seed = 32\n",
    "\n",
    "import torch, random\n",
    "random.seed(seed)\n",
    "import torch.nn as nn\n",
    "torch.manual_seed(seed)\n",
    "\n",
    "from collections import namedtuple\n",
    "from tqdm import tqdm_notebook\n",
    "import matplotlib.pyplot as plt\n",
    "\n",
    "from unityagents import UnityEnvironment\n",
    "import numpy as np\n",
    "np.random.seed(seed)"
   ]
  },
  {
   "cell_type": "markdown",
   "metadata": {},
   "source": [
    "## Define Networks"
   ]
  },
  {
   "cell_type": "code",
   "execution_count": 3,
   "metadata": {},
   "outputs": [],
   "source": [
    "class Critic(nn.Module):\n",
    "    def __init__(self, n_state, n_hidden = [500, 400], n_action=0):\n",
    "        super(Critic, self).__init__()\n",
    "        self.n_state = n_state\n",
    "        self.n_hidden = n_hidden\n",
    "        self.bn1 = nn.BatchNorm1d(n_state)\n",
    "        self.fc1 = nn.Linear(n_state, n_hidden[0])\n",
    "        self.fc2 = nn.Linear(n_hidden[0]+n_action, n_hidden[1])\n",
    "        self.fc3 = nn.Linear(n_hidden[1], 1)\n",
    "        self.fc3.weight.data.uniform_(-3e-3, 3e-3)\n",
    "        self.relu = nn.ReLU()\n",
    "    def forward(self, state, action):\n",
    "        x = state\n",
    "        x = self.relu(self.fc1(x))\n",
    "        x = self.relu(self.fc2(torch.cat((x, action), dim=1)))\n",
    "        x = self.fc3(x)\n",
    "        return x"
   ]
  },
  {
   "cell_type": "code",
   "execution_count": 4,
   "metadata": {},
   "outputs": [],
   "source": [
    "class Actor(nn.Module):\n",
    "    def __init__(self, n_state, n_action, n_hidden = [500, 400]):\n",
    "        super(Actor, self).__init__()\n",
    "        self.n_state = n_state\n",
    "        self.n_hidden = n_hidden\n",
    "        self.n_action= n_action\n",
    "        self.bn1 = nn.BatchNorm1d(n_state)\n",
    "        self.fc1 = nn.Linear(n_state, n_hidden[0])\n",
    "        self.bn2 = nn.BatchNorm1d(n_hidden[0])\n",
    "        self.fc2 = nn.Linear(n_hidden[0], n_hidden[1])\n",
    "        self.bn3 = nn.BatchNorm1d(n_hidden[1])\n",
    "        self.fc3 = nn.Linear(n_hidden[1], n_action)\n",
    "        self.fc3.weight.data.uniform_(-3e-3, 3e-3)\n",
    "        self.relu = nn.ReLU()\n",
    "        self.tanh = nn.Tanh()\n",
    "    def forward(self, state):\n",
    "        x = self.relu(self.fc1(state))\n",
    "        x = self.relu(self.fc2(x))s\n",
    "        x = self.tanh(self.fc3(x))                           \n",
    "        return x"
   ]
  },
  {
   "cell_type": "markdown",
   "metadata": {},
   "source": [
    "## Define Replay Buffer"
   ]
  },
  {
   "cell_type": "code",
   "execution_count": 5,
   "metadata": {},
   "outputs": [],
   "source": [
    "Transition = namedtuple('Transition',\n",
    "                        ('state', 'action', 'next_state', 'reward', 'done'))\n",
    "\n",
    "\n",
    "class ReplayMemory(object):s\n",
    "\n",
    "    def __init__(self, capacity):\n",
    "        self.capacity = capacity\n",
    "        self.memory = []\n",
    "        self.position = 0\n",
    "\n",
    "    def push(self, *args):\n",
    "        \"\"\"Saves a transition.\"\"\"\n",
    "        if len(self.memory) < self.capacity:\n",
    "            self.memory.append(None)\n",
    "        self.memory[self.position] = Transition(*args)\n",
    "        self.position = int((self.position + 1) % self.capacity)\n",
    "\n",
    "    def sample(self, batch_size):\n",
    "        return random.sample(self.memory, batch_size)\n",
    "\n",
    "    def __len__(self):\n",
    "        return len(self.memory)"
   ]
  },
  {
   "cell_type": "markdown",
   "metadata": {},
   "source": [
    "## Initialize Hyperparameters"
   ]
  },
  {
   "cell_type": "code",
   "execution_count": 7,
   "metadata": {},
   "outputs": [],
   "source": [
    "replay_capacity = 1e6\n",
    "lr_actor = 1e-4\n",
    "lr_critic = 1e-4\n",
    "weight_decay_critic = 0\n",
    "discount_factor = 0.9\n",
    "tau = 1e-3\n",
    "batch_size = 256\n",
    "noise_std_start = 0.3\n",
    "noise_std_decay = 0.999\n",
    "noise_std_min = 0.01\n",
    "episodes = 10000\n",
    "max_t = int(1e9)\n",
    "n_steps = 20\n",
    "iterations = 10\n",
    "device = 'cuda' if torch.cuda.is_available() else 'cpu'"
   ]
  },
  {
   "cell_type": "markdown",
   "metadata": {},
   "source": [
    "## Instantiate Environment, Networks, Replay Buffer, Loss, Optimizer "
   ]
  },
  {
   "cell_type": "code",
   "execution_count": 8,
   "metadata": {},
   "outputs": [
    {
     "name": "stderr",
     "output_type": "stream",
     "text": [
      "INFO:unityagents:\n",
      "'Academy' started successfully!\n",
      "Unity Academy name: Academy\n",
      "        Number of Brains: 1\n",
      "        Number of External Brains : 1\n",
      "        Lesson number : 0\n",
      "        Reset Parameters :\n",
      "\t\t\n",
      "Unity brain name: TennisBrain\n",
      "        Number of Visual Observations (per agent): 0\n",
      "        Vector Observation space type: continuous\n",
      "        Vector Observation space size (per agent): 8\n",
      "        Number of stacked Vector Observation: 3\n",
      "        Vector Action space type: continuous\n",
      "        Vector Action space size (per agent): 2\n",
      "        Vector Action descriptions: , \n"
     ]
    }
   ],
   "source": [
    "env = UnityEnvironment(file_name=\"./Tennis_Linux/Tennis.x86_64\")\n",
    "brain_name = env.brain_names[0]\n",
    "brain = env.brains[brain_name]\n",
    "env_info = env.reset(train_mode=True)[brain_name]\n",
    "num_agents = len(env_info.agents)\n",
    "action_size = brain.vector_action_space_size\n",
    "states = env_info.vector_observations\n",
    "state_size = states.shape[1]\n",
    "\n",
    "actor = Actor(state_size*2, action_size*2).to(device)\n",
    "actor_target = Actor(state_size*2, action_size*2).to(device)\n",
    "critic = Critic(state_size*2, n_action = action_size*2).to(device)\n",
    "critic_target = Critic(state_size*2, n_action = action_size*2).to(device)\n",
    "for target_param, param in zip(critic_target.parameters(), critic.parameters()):\n",
    "    target_param.data.copy_(param.data)\n",
    "for target_param, param in zip(actor_target.parameters(), actor.parameters()):\n",
    "    target_param.data.copy_(param.data)\n",
    "replay_buffer = ReplayMemory(replay_capacity)\n",
    "criterion = nn.MSELoss()\n",
    "optim_critic = torch.optim.Adam(critic.parameters(), lr=lr_critic, weight_decay=weight_decay_critic)\n",
    "optim_actor = torch.optim.Adam(actor.parameters(), lr=lr_actor)"
   ]
  },
  {
   "cell_type": "markdown",
   "metadata": {},
   "source": [
    "## Learn"
   ]
  },
  {
   "cell_type": "code",
   "execution_count": 8,
   "metadata": {},
   "outputs": [
    {
     "name": "stdout",
     "output_type": "stream",
     "text": [
      "Episode: 500/10000, Score: -0.007599999733269215, Score Actor: 0.02275468409061432, Loss Critic: 1.951510967046488e-05, Noise Std: 0.18191368345835565\n",
      "Episode: 1000/10000, Score: -0.008999999761581421, Score Actor: 0.01745055802166462, Loss Critic: 1.0462195859872736e-05, Noise Std: 0.11030862743128944\n",
      "Episode: 1500/10000, Score: -0.0033999996781349183, Score Actor: 0.006707620806992054, Loss Critic: 9.278408469981514e-06, Noise Std: 0.06688882911087081\n",
      "Episode: 2000/10000, Score: 0.0054000004567205905, Score Actor: 0.010147112421691418, Loss Critic: 2.3746813894831575e-05, Noise Std: 0.040559977619249926\n",
      "Episode: 2500/10000, Score: 0.010800000537186862, Score Actor: 0.01065575797110796, Loss Critic: 2.4469642085023224e-05, Noise Std: 0.024594716432354037\n",
      "Episode: 3000/10000, Score: 0.016400000616908075, Score Actor: 0.009276600554585457, Loss Critic: 3.081810427829623e-05, Noise Std: 0.014913718199410881\n",
      "Episode: 3500/10000, Score: 0.03238000085949898, Score Actor: 0.010048145428299904, Loss Critic: 4.125235500396229e-05, Noise Std: 0.01\n",
      "Episode: 4000/10000, Score: 0.047760001085698604, Score Actor: 0.012442058883607388, Loss Critic: 3.838056363747455e-05, Noise Std: 0.01\n",
      "Episode: 4500/10000, Score: 0.0544000011831522, Score Actor: 0.015485535375773907, Loss Critic: 3.601935168262571e-05, Noise Std: 0.01\n",
      "Episode: 5000/10000, Score: 0.1319800023548305, Score Actor: 0.020097695291042328, Loss Critic: 3.657964043668471e-05, Noise Std: 0.01\n",
      "Episode: 5500/10000, Score: 0.3014800048843026, Score Actor: 0.028026221320033073, Loss Critic: 3.453913814155385e-05, Noise Std: 0.01\n",
      "Episode: 6000/10000, Score: 0.7160200110636652, Score Actor: 0.03749706223607063, Loss Critic: 2.7767959181801416e-05, Noise Std: 0.01\n",
      "Episode: 6500/10000, Score: 1.2714000193178654, Score Actor: 0.043302327394485474, Loss Critic: 1.9252240235800855e-05, Noise Std: 0.01\n",
      "Episode: 7000/10000, Score: 2.2089200332537295, Score Actor: 0.04680884629487991, Loss Critic: 1.4091019693296403e-05, Noise Std: 0.01\n",
      "Episode: 7500/10000, Score: 1.8594000280313194, Score Actor: 0.0486626997590065, Loss Critic: 1.26174027172965e-05, Noise Std: 0.01\n"
     ]
    },
    {
     "ename": "KeyboardInterrupt",
     "evalue": "",
     "output_type": "error",
     "traceback": [
      "\u001b[0;31m---------------------------------------------------------------------------\u001b[0m",
      "\u001b[0;31mKeyboardInterrupt\u001b[0m                         Traceback (most recent call last)",
      "\u001b[0;32m<ipython-input-8-f8b768ae0f64>\u001b[0m in \u001b[0;36m<module>\u001b[0;34m\u001b[0m\n\u001b[1;32m     39\u001b[0m                 \u001b[0moptim_critic\u001b[0m\u001b[0;34m.\u001b[0m\u001b[0mstep\u001b[0m\u001b[0;34m(\u001b[0m\u001b[0;34m)\u001b[0m\u001b[0;34m\u001b[0m\u001b[0;34m\u001b[0m\u001b[0m\n\u001b[1;32m     40\u001b[0m                 \u001b[0moptim_actor\u001b[0m\u001b[0;34m.\u001b[0m\u001b[0mzero_grad\u001b[0m\u001b[0;34m(\u001b[0m\u001b[0;34m)\u001b[0m\u001b[0;34m\u001b[0m\u001b[0;34m\u001b[0m\u001b[0m\n\u001b[0;32m---> 41\u001b[0;31m                 \u001b[0mloss\u001b[0m \u001b[0;34m=\u001b[0m \u001b[0;34m-\u001b[0m\u001b[0mcritic\u001b[0m\u001b[0;34m(\u001b[0m\u001b[0mstates\u001b[0m\u001b[0;34m,\u001b[0m \u001b[0mactor\u001b[0m\u001b[0;34m(\u001b[0m\u001b[0mstates\u001b[0m\u001b[0;34m)\u001b[0m\u001b[0;34m)\u001b[0m\u001b[0;34m.\u001b[0m\u001b[0mmean\u001b[0m\u001b[0;34m(\u001b[0m\u001b[0;34m)\u001b[0m\u001b[0;34m\u001b[0m\u001b[0;34m\u001b[0m\u001b[0m\n\u001b[0m\u001b[1;32m     42\u001b[0m                 \u001b[0mscore_actor\u001b[0m\u001b[0;34m.\u001b[0m\u001b[0mappend\u001b[0m\u001b[0;34m(\u001b[0m\u001b[0;34m-\u001b[0m\u001b[0mloss\u001b[0m\u001b[0;34m.\u001b[0m\u001b[0mitem\u001b[0m\u001b[0;34m(\u001b[0m\u001b[0;34m)\u001b[0m\u001b[0;34m)\u001b[0m\u001b[0;34m\u001b[0m\u001b[0;34m\u001b[0m\u001b[0m\n\u001b[1;32m     43\u001b[0m                 \u001b[0mloss\u001b[0m\u001b[0;34m.\u001b[0m\u001b[0mbackward\u001b[0m\u001b[0;34m(\u001b[0m\u001b[0;34m)\u001b[0m\u001b[0;34m\u001b[0m\u001b[0;34m\u001b[0m\u001b[0m\n",
      "\u001b[0;31mKeyboardInterrupt\u001b[0m: "
     ]
    }
   ],
   "source": [
    "scores = []\n",
    "mean_loss_critic = []\n",
    "mean_score_actor = []\n",
    "loss_critic = []\n",
    "score_actor = []\n",
    "score = 0\n",
    "steps = 0\n",
    "noise_std = noise_std_start\n",
    "\n",
    "for i in range(episodes):\n",
    "    env_info = env.reset(train_mode=True)[brain_name]   \n",
    "    state = torch.from_numpy(env_info.vector_observations).view(-1).float().to(device)\n",
    "    for t in range(max_t):\n",
    "        with torch.no_grad():\n",
    "            actor.eval()\n",
    "            action = torch.clamp(actor_target(state.unsqueeze(0))+torch.zeros((1, action_size*2)).normal_(0,noise_std).to(device),-1,1).squeeze().float()#+ ou_process.sample() \n",
    "            actor.train()\n",
    "            env_info = env.step(torch.stack((action[:action_size], action[action_size:])).to('cpu').numpy())[brain_name]\n",
    "            next_state = torch.from_numpy(env_info.vector_observations).view(-1).float()\n",
    "            reward = torch.tensor(env_info.rewards).sum().float()\n",
    "            score += reward.item()\n",
    "            done = torch.tensor(env_info.local_done[0] or env_info.local_done[1]).float()\n",
    "            replay_buffer.push(state.to('cpu'), action.to('cpu'), next_state, reward, done)\n",
    "        if((steps+1)%n_steps==0 and len(replay_buffer)>=batch_size):\n",
    "            for iteration in range(iterations):\n",
    "                with torch.no_grad():  \n",
    "                    sample = replay_buffer.sample(batch_size)\n",
    "                    states = torch.stack([row.state for row in sample]).to(device)\n",
    "                    actions = torch.stack([row.action for row in sample]).to(device)\n",
    "                    rewards = torch.stack([row.reward for row in sample]).unsqueeze(1).to(device)\n",
    "                    next_states = torch.stack([row.next_state for row in sample]).to(device)\n",
    "                    dones = torch.stack([row.done for row in sample]).unsqueeze(1).to(device)\n",
    "                    targets = rewards + (1-dones) * discount_factor * critic_target(next_states, actor_target(next_states))\n",
    "                optim_critic.zero_grad()\n",
    "                predictions = critic(states, actions)\n",
    "                loss = criterion(predictions, targets)\n",
    "                loss_critic.append(loss.item())\n",
    "                loss.backward()\n",
    "                optim_critic.step()\n",
    "                optim_actor.zero_grad()\n",
    "                loss = -critic(states, actor(states)).mean()\n",
    "                score_actor.append(-loss.item())\n",
    "                loss.backward()\n",
    "                optim_actor.step()\n",
    "                with torch.no_grad():\n",
    "                    for target_param, param in zip(critic_target.parameters(), critic.parameters()):\n",
    "                        target_param.data.copy_(target_param.data * (1.0 - tau) + param.data * tau)\n",
    "                    for target_param, param in zip(actor_target.parameters(), actor.parameters()):\n",
    "                        target_param.data.copy_(target_param.data * (1.0 - tau) + param.data * tau)\n",
    "        steps += 1\n",
    "        if done.item():\n",
    "            break\n",
    "        state = next_state.to(device)\n",
    "    noise_std = max(noise_std*noise_std_decay,noise_std_min)\n",
    "    if (i+1)%500==0:\n",
    "        avg_score = score/500\n",
    "        avg_score_actor = torch.tensor(score_actor).mean().item()\n",
    "        avg_loss_critic = torch.tensor(loss_critic).mean().item()\n",
    "        scores.append(avg_score)\n",
    "        mean_loss_critic.append(avg_loss_critic)\n",
    "        mean_score_actor.append(avg_score_actor)\n",
    "        print(\"Episode: {}/{}, Score: {}, Score Actor: {}, Loss Critic: {}, Noise Std: {}\".format(i+1, episodes, avg_score, avg_score_actor, avg_loss_critic, noise_std))\n",
    "        score_actor = []\n",
    "        loss_critic = []\n",
    "        score = 0"
   ]
  },
  {
   "cell_type": "code",
   "execution_count": 9,
   "metadata": {},
   "outputs": [
    {
     "data": {
      "image/png": "[encoded data removed]",
      "text/plain": [
       "<Figure size 432x288 with 1 Axes>"
      ]
     },
     "metadata": {
      "needs_background": "light"
     },
     "output_type": "display_data"
    }
   ],
   "source": [
    "plt.plot(scores)\n",
    "plt.title(\"Average Score\")\n",
    "plt.show()"
   ]
  },
  {
   "cell_type": "code",
   "execution_count": 10,
   "metadata": {},
   "outputs": [
    {
     "data": {
      "image/png": "[encoded data removed]",
      "text/plain": [
       "<Figure size 432x288 with 1 Axes>"
      ]
     },
     "metadata": {
      "needs_background": "light"
     },
     "output_type": "display_data"
    }
   ],
   "source": [
    "plt.plot(mean_loss_critic)\n",
    "plt.title(\"Critic Loss\")\n",
    "plt.show()"
   ]
  },
  {
   "cell_type": "code",
   "execution_count": 11,
   "metadata": {},
   "outputs": [
    {
     "data": {
      "image/png": "[encoded data removed]",
      "text/plain": [
       "<Figure size 432x288 with 1 Axes>"
      ]
     },
     "metadata": {
      "needs_background": "light"
     },
     "output_type": "display_data"
    }
   ],
   "source": [
    "plt.plot(mean_score_actor)\n",
    "plt.title(\"Actor Score\")\n",
    "plt.show()"
   ]
  },
  {
   "cell_type": "code",
   "execution_count": 12,
   "metadata": {},
   "outputs": [],
   "source": [
    "torch.save(actor.state_dict(),\"checkpoint.pth\")"
   ]
  },
  {
   "cell_type": "markdown",
   "metadata": {},
   "source": [
    "## Evaluate"
   ]
  },
  {
   "cell_type": "code",
   "execution_count": 9,
   "metadata": {},
   "outputs": [
    {
     "data": {
      "text/plain": [
       "Actor(\n",
       "  (bn1): BatchNorm1d(48, eps=1e-05, momentum=0.1, affine=True, track_running_stats=True)\n",
       "  (fc1): Linear(in_features=48, out_features=500, bias=True)\n",
       "  (bn2): BatchNorm1d(500, eps=1e-05, momentum=0.1, affine=True, track_running_stats=True)\n",
       "  (fc2): Linear(in_features=500, out_features=400, bias=True)\n",
       "  (bn3): BatchNorm1d(400, eps=1e-05, momentum=0.1, affine=True, track_running_stats=True)\n",
       "  (fc3): Linear(in_features=400, out_features=4, bias=True)\n",
       "  (relu): ReLU()\n",
       "  (tanh): Tanh()\n",
       ")"
      ]
     },
     "execution_count": 9,
     "metadata": {},
     "output_type": "execute_result"
    }
   ],
   "source": [
    "actor.load_state_dict(torch.load(\"checkpoint.pth\"))\n",
    "actor.eval()"
   ]
  },
  {
   "cell_type": "code",
   "execution_count": 10,
   "metadata": {},
   "outputs": [],
   "source": [
    "scores = []\n",
    "score = torch.tensor([0.,0.])\n",
    "episodes = 100"
   ]
  },
  {
   "cell_type": "code",
   "execution_count": 11,
   "metadata": {},
   "outputs": [
    {
     "name": "stderr",
     "output_type": "stream",
     "text": [
      "/home/moritz/anaconda3/envs/drlnd/lib/python3.6/site-packages/ipykernel_launcher.py:1: TqdmDeprecationWarning: This function will be removed in tqdm==5.0.0\n",
      "Please use `tqdm.notebook.tqdm` instead of `tqdm.tqdm_notebook`\n",
      "  \"\"\"Entry point for launching an IPython kernel.\n"
     ]
    },
    {
     "data": {
      "application/vnd.jupyter.widget-view+json": {
       "model_id": "df90c0b3bd1f455895524df773f81612",
       "version_major": 2,
       "version_minor": 0
      },
      "text/plain": [
       "HBox(children=(FloatProgress(value=0.0), HTML(value='')))"
      ]
     },
     "metadata": {},
     "output_type": "display_data"
    },
    {
     "name": "stdout",
     "output_type": "stream",
     "text": [
      "\n"
     ]
    }
   ],
   "source": [
    "for i in tqdm_notebook(range(episodes)):\n",
    "    env_info = env.reset(train_mode=True)[brain_name]   \n",
    "    state = torch.from_numpy(env_info.vector_observations).view(-1).float().to(device)\n",
    "    for t in range(max_t):\n",
    "        with torch.no_grad():\n",
    "            action = actor(state.unsqueeze(0)).squeeze().float()\n",
    "            env_info = env.step(torch.stack((action[:action_size], action[action_size:])).to('cpu').numpy())[brain_name]\n",
    "            next_state = torch.from_numpy(env_info.vector_observations).view(-1).float()\n",
    "            reward = torch.tensor(env_info.rewards).float()\n",
    "            score += reward\n",
    "            done = torch.tensor(env_info.local_done[0] or env_info.local_done[1]).float()\n",
    "            if done.item():\n",
    "                break\n",
    "            state = next_state.to(device)\n",
    "    scores.append(score)\n",
    "    score = torch.tensor([0.,0.]).float()"
   ]
  },
  {
   "cell_type": "code",
   "execution_count": 51,
   "metadata": {},
   "outputs": [
    {
     "name": "stdout",
     "output_type": "stream",
     "text": [
      "Average maximum score over 100 episodes: 1.14\n"
     ]
    }
   ],
   "source": [
    "print(\"Average maximum score over {} epissodes: {:.2f}\".format(episodes, torch.stack([score for score in scores]).max(1)[0].mean()))"
   ]
  },
  {
   "cell_type": "markdown",
   "metadata": {},
   "source": [
    "## Watch Agents Play"
   ]
  },
  {
   "cell_type": "markdown",
   "metadata": {},
   "source": [
    "![gif](tennis.gif)"
   ]
  },
  {
   "cell_type": "code",
   "execution_count": 12,
   "metadata": {},
   "outputs": [],
   "source": [
    "score = torch.tensor([0.,0.])\n",
    "episodes = 5"
   ]
  },
  {
   "cell_type": "code",
   "execution_count": 13,
   "metadata": {},
   "outputs": [
    {
     "name": "stdout",
     "output_type": "stream",
     "text": [
      "Scores: [0.2900000214576721, 0.4000000059604645]\n",
      "Scores: [2.200000047683716, 2.0900001525878906]\n",
      "Scores: [0.9000000953674316, 0.7900000810623169]\n",
      "Scores: [2.299999952316284, 2.2899999618530273]\n",
      "Scores: [2.5999996662139893, 2.499999761581421]\n"
     ]
    }
   ],
   "source": [
    "for i in range(episodes):\n",
    "    env_info = env.reset(train_mode=False)[brain_name]   \n",
    "    state = torch.from_numpy(env_info.vector_observations).view(-1).float().to(device)\n",
    "    for t in range(max_t):\n",
    "        with torch.no_grad():\n",
    "            action = actor(state.unsqueeze(0)).squeeze().float()\n",
    "            env_info = env.step(torch.stack((action[:action_size], action[action_size:])).to('cpu').numpy())[brain_name]\n",
    "            next_state = torch.from_numpy(env_info.vector_observations).view(-1).float()\n",
    "            reward = torch.tensor(env_info.rewards).float()\n",
    "            score += reward\n",
    "            done = torch.tensor(env_info.local_done[0] or env_info.local_done[1]).float()\n",
    "            if done.item():\n",
    "                break\n",
    "            state = next_state.to(device)\n",
    "    print(\"Scores: {}\".format(score.tolist()))\n",
    "    score = torch.tensor([0.,0.]).float()"
   ]
  }
 ],
 "metadata": {
  "kernelspec": {
   "display_name": "drlnd",
   "language": "python",
   "name": "drlnd"
  },
  "language_info": {
   "codemirror_mode": {
    "name": "ipython",
    "version": 3
   },
   "file_extension": ".py",
   "mimetype": "text/x-python",
   "name": "python",
   "nbconvert_exporter": "python",
   "pygments_lexer": "ipython3",
   "version": "3.6.9"
  }
 },
 "nbformat": 4,
 "nbformat_minor": 2
}
